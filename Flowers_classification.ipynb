{
  "nbformat": 4,
  "nbformat_minor": 0,
  "metadata": {
    "colab": {
      "name": "Flowers classification.ipynb",
      "provenance": []
    },
    "kernelspec": {
      "name": "python3",
      "display_name": "Python 3"
    },
    "language_info": {
      "name": "python"
    },
    "widgets": {
      "application/vnd.jupyter.widget-state+json": {
        "90fb06b7e0be45f5844e2fcf1db31adf": {
          "model_module": "@jupyter-widgets/controls",
          "model_name": "HBoxModel",
          "model_module_version": "1.5.0",
          "state": {
            "_view_name": "HBoxView",
            "_dom_classes": [],
            "_model_name": "HBoxModel",
            "_view_module": "@jupyter-widgets/controls",
            "_model_module_version": "1.5.0",
            "_view_count": null,
            "_view_module_version": "1.5.0",
            "box_style": "",
            "layout": "IPY_MODEL_58949bc37f7c49888b0ee1648c76bfbb",
            "_model_module": "@jupyter-widgets/controls",
            "children": [
              "IPY_MODEL_578a3e46d41b4b7584e0c1d2064ca847",
              "IPY_MODEL_e94181b54c434ea7a8aceea2835d5c26",
              "IPY_MODEL_ee6f03c0342f43888a36c043cc79c26d"
            ]
          }
        },
        "58949bc37f7c49888b0ee1648c76bfbb": {
          "model_module": "@jupyter-widgets/base",
          "model_name": "LayoutModel",
          "model_module_version": "1.2.0",
          "state": {
            "_view_name": "LayoutView",
            "grid_template_rows": null,
            "right": null,
            "justify_content": null,
            "_view_module": "@jupyter-widgets/base",
            "overflow": null,
            "_model_module_version": "1.2.0",
            "_view_count": null,
            "flex_flow": null,
            "width": null,
            "min_width": null,
            "border": null,
            "align_items": null,
            "bottom": null,
            "_model_module": "@jupyter-widgets/base",
            "top": null,
            "grid_column": null,
            "overflow_y": null,
            "overflow_x": null,
            "grid_auto_flow": null,
            "grid_area": null,
            "grid_template_columns": null,
            "flex": null,
            "_model_name": "LayoutModel",
            "justify_items": null,
            "grid_row": null,
            "max_height": null,
            "align_content": null,
            "visibility": null,
            "align_self": null,
            "height": null,
            "min_height": null,
            "padding": null,
            "grid_auto_rows": null,
            "grid_gap": null,
            "max_width": null,
            "order": null,
            "_view_module_version": "1.2.0",
            "grid_template_areas": null,
            "object_position": null,
            "object_fit": null,
            "grid_auto_columns": null,
            "margin": null,
            "display": null,
            "left": null
          }
        },
        "578a3e46d41b4b7584e0c1d2064ca847": {
          "model_module": "@jupyter-widgets/controls",
          "model_name": "HTMLModel",
          "model_module_version": "1.5.0",
          "state": {
            "_view_name": "HTMLView",
            "style": "IPY_MODEL_e878091b8a5c4c7cae49ee23a1ae5f61",
            "_dom_classes": [],
            "description": "",
            "_model_name": "HTMLModel",
            "placeholder": "​",
            "_view_module": "@jupyter-widgets/controls",
            "_model_module_version": "1.5.0",
            "value": "100%",
            "_view_count": null,
            "_view_module_version": "1.5.0",
            "description_tooltip": null,
            "_model_module": "@jupyter-widgets/controls",
            "layout": "IPY_MODEL_9f89a2de94a44600b23b194e1a1cadf8"
          }
        },
        "e94181b54c434ea7a8aceea2835d5c26": {
          "model_module": "@jupyter-widgets/controls",
          "model_name": "FloatProgressModel",
          "model_module_version": "1.5.0",
          "state": {
            "_view_name": "ProgressView",
            "style": "IPY_MODEL_3e78975097364030b1ee13bb1c205a90",
            "_dom_classes": [],
            "description": "",
            "_model_name": "FloatProgressModel",
            "bar_style": "success",
            "max": 178793939,
            "_view_module": "@jupyter-widgets/controls",
            "_model_module_version": "1.5.0",
            "value": 178793939,
            "_view_count": null,
            "_view_module_version": "1.5.0",
            "orientation": "horizontal",
            "min": 0,
            "description_tooltip": null,
            "_model_module": "@jupyter-widgets/controls",
            "layout": "IPY_MODEL_e4d0eeb84d2249a78ffed2cb2d365680"
          }
        },
        "ee6f03c0342f43888a36c043cc79c26d": {
          "model_module": "@jupyter-widgets/controls",
          "model_name": "HTMLModel",
          "model_module_version": "1.5.0",
          "state": {
            "_view_name": "HTMLView",
            "style": "IPY_MODEL_73f02c448bed4c0f811ba0168071de5d",
            "_dom_classes": [],
            "description": "",
            "_model_name": "HTMLModel",
            "placeholder": "​",
            "_view_module": "@jupyter-widgets/controls",
            "_model_module_version": "1.5.0",
            "value": " 171M/171M [00:06&lt;00:00, 22.8MB/s]",
            "_view_count": null,
            "_view_module_version": "1.5.0",
            "description_tooltip": null,
            "_model_module": "@jupyter-widgets/controls",
            "layout": "IPY_MODEL_5adc4fef32c94e11a8cf9439540fa4cb"
          }
        },
        "e878091b8a5c4c7cae49ee23a1ae5f61": {
          "model_module": "@jupyter-widgets/controls",
          "model_name": "DescriptionStyleModel",
          "model_module_version": "1.5.0",
          "state": {
            "_view_name": "StyleView",
            "_model_name": "DescriptionStyleModel",
            "description_width": "",
            "_view_module": "@jupyter-widgets/base",
            "_model_module_version": "1.5.0",
            "_view_count": null,
            "_view_module_version": "1.2.0",
            "_model_module": "@jupyter-widgets/controls"
          }
        },
        "9f89a2de94a44600b23b194e1a1cadf8": {
          "model_module": "@jupyter-widgets/base",
          "model_name": "LayoutModel",
          "model_module_version": "1.2.0",
          "state": {
            "_view_name": "LayoutView",
            "grid_template_rows": null,
            "right": null,
            "justify_content": null,
            "_view_module": "@jupyter-widgets/base",
            "overflow": null,
            "_model_module_version": "1.2.0",
            "_view_count": null,
            "flex_flow": null,
            "width": null,
            "min_width": null,
            "border": null,
            "align_items": null,
            "bottom": null,
            "_model_module": "@jupyter-widgets/base",
            "top": null,
            "grid_column": null,
            "overflow_y": null,
            "overflow_x": null,
            "grid_auto_flow": null,
            "grid_area": null,
            "grid_template_columns": null,
            "flex": null,
            "_model_name": "LayoutModel",
            "justify_items": null,
            "grid_row": null,
            "max_height": null,
            "align_content": null,
            "visibility": null,
            "align_self": null,
            "height": null,
            "min_height": null,
            "padding": null,
            "grid_auto_rows": null,
            "grid_gap": null,
            "max_width": null,
            "order": null,
            "_view_module_version": "1.2.0",
            "grid_template_areas": null,
            "object_position": null,
            "object_fit": null,
            "grid_auto_columns": null,
            "margin": null,
            "display": null,
            "left": null
          }
        },
        "3e78975097364030b1ee13bb1c205a90": {
          "model_module": "@jupyter-widgets/controls",
          "model_name": "ProgressStyleModel",
          "model_module_version": "1.5.0",
          "state": {
            "_view_name": "StyleView",
            "_model_name": "ProgressStyleModel",
            "description_width": "",
            "_view_module": "@jupyter-widgets/base",
            "_model_module_version": "1.5.0",
            "_view_count": null,
            "_view_module_version": "1.2.0",
            "bar_color": null,
            "_model_module": "@jupyter-widgets/controls"
          }
        },
        "e4d0eeb84d2249a78ffed2cb2d365680": {
          "model_module": "@jupyter-widgets/base",
          "model_name": "LayoutModel",
          "model_module_version": "1.2.0",
          "state": {
            "_view_name": "LayoutView",
            "grid_template_rows": null,
            "right": null,
            "justify_content": null,
            "_view_module": "@jupyter-widgets/base",
            "overflow": null,
            "_model_module_version": "1.2.0",
            "_view_count": null,
            "flex_flow": null,
            "width": null,
            "min_width": null,
            "border": null,
            "align_items": null,
            "bottom": null,
            "_model_module": "@jupyter-widgets/base",
            "top": null,
            "grid_column": null,
            "overflow_y": null,
            "overflow_x": null,
            "grid_auto_flow": null,
            "grid_area": null,
            "grid_template_columns": null,
            "flex": null,
            "_model_name": "LayoutModel",
            "justify_items": null,
            "grid_row": null,
            "max_height": null,
            "align_content": null,
            "visibility": null,
            "align_self": null,
            "height": null,
            "min_height": null,
            "padding": null,
            "grid_auto_rows": null,
            "grid_gap": null,
            "max_width": null,
            "order": null,
            "_view_module_version": "1.2.0",
            "grid_template_areas": null,
            "object_position": null,
            "object_fit": null,
            "grid_auto_columns": null,
            "margin": null,
            "display": null,
            "left": null
          }
        },
        "73f02c448bed4c0f811ba0168071de5d": {
          "model_module": "@jupyter-widgets/controls",
          "model_name": "DescriptionStyleModel",
          "model_module_version": "1.5.0",
          "state": {
            "_view_name": "StyleView",
            "_model_name": "DescriptionStyleModel",
            "description_width": "",
            "_view_module": "@jupyter-widgets/base",
            "_model_module_version": "1.5.0",
            "_view_count": null,
            "_view_module_version": "1.2.0",
            "_model_module": "@jupyter-widgets/controls"
          }
        },
        "5adc4fef32c94e11a8cf9439540fa4cb": {
          "model_module": "@jupyter-widgets/base",
          "model_name": "LayoutModel",
          "model_module_version": "1.2.0",
          "state": {
            "_view_name": "LayoutView",
            "grid_template_rows": null,
            "right": null,
            "justify_content": null,
            "_view_module": "@jupyter-widgets/base",
            "overflow": null,
            "_model_module_version": "1.2.0",
            "_view_count": null,
            "flex_flow": null,
            "width": null,
            "min_width": null,
            "border": null,
            "align_items": null,
            "bottom": null,
            "_model_module": "@jupyter-widgets/base",
            "top": null,
            "grid_column": null,
            "overflow_y": null,
            "overflow_x": null,
            "grid_auto_flow": null,
            "grid_area": null,
            "grid_template_columns": null,
            "flex": null,
            "_model_name": "LayoutModel",
            "justify_items": null,
            "grid_row": null,
            "max_height": null,
            "align_content": null,
            "visibility": null,
            "align_self": null,
            "height": null,
            "min_height": null,
            "padding": null,
            "grid_auto_rows": null,
            "grid_gap": null,
            "max_width": null,
            "order": null,
            "_view_module_version": "1.2.0",
            "grid_template_areas": null,
            "object_position": null,
            "object_fit": null,
            "grid_auto_columns": null,
            "margin": null,
            "display": null,
            "left": null
          }
        },
        "0b2c4e305e8541ecb6ecaadc79590677": {
          "model_module": "@jupyter-widgets/controls",
          "model_name": "HBoxModel",
          "model_module_version": "1.5.0",
          "state": {
            "_view_name": "HBoxView",
            "_dom_classes": [],
            "_model_name": "HBoxModel",
            "_view_module": "@jupyter-widgets/controls",
            "_model_module_version": "1.5.0",
            "_view_count": null,
            "_view_module_version": "1.5.0",
            "box_style": "",
            "layout": "IPY_MODEL_b28be94f56d1411a9ca1dd18951b4040",
            "_model_module": "@jupyter-widgets/controls",
            "children": [
              "IPY_MODEL_504087a536dc4ce89269f8f3cdfa98f3",
              "IPY_MODEL_b1485aacd6ca4a8babc916ccc63672a9",
              "IPY_MODEL_d1419ee8446b4718b26587c93bccbb72"
            ]
          }
        },
        "b28be94f56d1411a9ca1dd18951b4040": {
          "model_module": "@jupyter-widgets/base",
          "model_name": "LayoutModel",
          "model_module_version": "1.2.0",
          "state": {
            "_view_name": "LayoutView",
            "grid_template_rows": null,
            "right": null,
            "justify_content": null,
            "_view_module": "@jupyter-widgets/base",
            "overflow": null,
            "_model_module_version": "1.2.0",
            "_view_count": null,
            "flex_flow": null,
            "width": null,
            "min_width": null,
            "border": null,
            "align_items": null,
            "bottom": null,
            "_model_module": "@jupyter-widgets/base",
            "top": null,
            "grid_column": null,
            "overflow_y": null,
            "overflow_x": null,
            "grid_auto_flow": null,
            "grid_area": null,
            "grid_template_columns": null,
            "flex": null,
            "_model_name": "LayoutModel",
            "justify_items": null,
            "grid_row": null,
            "max_height": null,
            "align_content": null,
            "visibility": null,
            "align_self": null,
            "height": null,
            "min_height": null,
            "padding": null,
            "grid_auto_rows": null,
            "grid_gap": null,
            "max_width": null,
            "order": null,
            "_view_module_version": "1.2.0",
            "grid_template_areas": null,
            "object_position": null,
            "object_fit": null,
            "grid_auto_columns": null,
            "margin": null,
            "display": null,
            "left": null
          }
        },
        "504087a536dc4ce89269f8f3cdfa98f3": {
          "model_module": "@jupyter-widgets/controls",
          "model_name": "HTMLModel",
          "model_module_version": "1.5.0",
          "state": {
            "_view_name": "HTMLView",
            "style": "IPY_MODEL_53b9e92fa42b42438f8ee96aee03a81a",
            "_dom_classes": [],
            "description": "",
            "_model_name": "HTMLModel",
            "placeholder": "​",
            "_view_module": "@jupyter-widgets/controls",
            "_model_module_version": "1.5.0",
            "value": "100%",
            "_view_count": null,
            "_view_module_version": "1.5.0",
            "description_tooltip": null,
            "_model_module": "@jupyter-widgets/controls",
            "layout": "IPY_MODEL_df69b1c767b9471ea00b4b252f00f1d5"
          }
        },
        "b1485aacd6ca4a8babc916ccc63672a9": {
          "model_module": "@jupyter-widgets/controls",
          "model_name": "FloatProgressModel",
          "model_module_version": "1.5.0",
          "state": {
            "_view_name": "ProgressView",
            "style": "IPY_MODEL_4718df5c96434cacb905d712ba457110",
            "_dom_classes": [],
            "description": "",
            "_model_name": "FloatProgressModel",
            "bar_style": "success",
            "max": 574769405,
            "_view_module": "@jupyter-widgets/controls",
            "_model_module_version": "1.5.0",
            "value": 574769405,
            "_view_count": null,
            "_view_module_version": "1.5.0",
            "orientation": "horizontal",
            "min": 0,
            "description_tooltip": null,
            "_model_module": "@jupyter-widgets/controls",
            "layout": "IPY_MODEL_f8e62204b5c04963a00513c0c25ac705"
          }
        },
        "d1419ee8446b4718b26587c93bccbb72": {
          "model_module": "@jupyter-widgets/controls",
          "model_name": "HTMLModel",
          "model_module_version": "1.5.0",
          "state": {
            "_view_name": "HTMLView",
            "style": "IPY_MODEL_a7567b275eae4e6b826b60b03b039c98",
            "_dom_classes": [],
            "description": "",
            "_model_name": "HTMLModel",
            "placeholder": "​",
            "_view_module": "@jupyter-widgets/controls",
            "_model_module_version": "1.5.0",
            "value": " 548M/548M [00:13&lt;00:00, 66.2MB/s]",
            "_view_count": null,
            "_view_module_version": "1.5.0",
            "description_tooltip": null,
            "_model_module": "@jupyter-widgets/controls",
            "layout": "IPY_MODEL_24251b2d8c2f469a9dfb02decf91d293"
          }
        },
        "53b9e92fa42b42438f8ee96aee03a81a": {
          "model_module": "@jupyter-widgets/controls",
          "model_name": "DescriptionStyleModel",
          "model_module_version": "1.5.0",
          "state": {
            "_view_name": "StyleView",
            "_model_name": "DescriptionStyleModel",
            "description_width": "",
            "_view_module": "@jupyter-widgets/base",
            "_model_module_version": "1.5.0",
            "_view_count": null,
            "_view_module_version": "1.2.0",
            "_model_module": "@jupyter-widgets/controls"
          }
        },
        "df69b1c767b9471ea00b4b252f00f1d5": {
          "model_module": "@jupyter-widgets/base",
          "model_name": "LayoutModel",
          "model_module_version": "1.2.0",
          "state": {
            "_view_name": "LayoutView",
            "grid_template_rows": null,
            "right": null,
            "justify_content": null,
            "_view_module": "@jupyter-widgets/base",
            "overflow": null,
            "_model_module_version": "1.2.0",
            "_view_count": null,
            "flex_flow": null,
            "width": null,
            "min_width": null,
            "border": null,
            "align_items": null,
            "bottom": null,
            "_model_module": "@jupyter-widgets/base",
            "top": null,
            "grid_column": null,
            "overflow_y": null,
            "overflow_x": null,
            "grid_auto_flow": null,
            "grid_area": null,
            "grid_template_columns": null,
            "flex": null,
            "_model_name": "LayoutModel",
            "justify_items": null,
            "grid_row": null,
            "max_height": null,
            "align_content": null,
            "visibility": null,
            "align_self": null,
            "height": null,
            "min_height": null,
            "padding": null,
            "grid_auto_rows": null,
            "grid_gap": null,
            "max_width": null,
            "order": null,
            "_view_module_version": "1.2.0",
            "grid_template_areas": null,
            "object_position": null,
            "object_fit": null,
            "grid_auto_columns": null,
            "margin": null,
            "display": null,
            "left": null
          }
        },
        "4718df5c96434cacb905d712ba457110": {
          "model_module": "@jupyter-widgets/controls",
          "model_name": "ProgressStyleModel",
          "model_module_version": "1.5.0",
          "state": {
            "_view_name": "StyleView",
            "_model_name": "ProgressStyleModel",
            "description_width": "",
            "_view_module": "@jupyter-widgets/base",
            "_model_module_version": "1.5.0",
            "_view_count": null,
            "_view_module_version": "1.2.0",
            "bar_color": null,
            "_model_module": "@jupyter-widgets/controls"
          }
        },
        "f8e62204b5c04963a00513c0c25ac705": {
          "model_module": "@jupyter-widgets/base",
          "model_name": "LayoutModel",
          "model_module_version": "1.2.0",
          "state": {
            "_view_name": "LayoutView",
            "grid_template_rows": null,
            "right": null,
            "justify_content": null,
            "_view_module": "@jupyter-widgets/base",
            "overflow": null,
            "_model_module_version": "1.2.0",
            "_view_count": null,
            "flex_flow": null,
            "width": null,
            "min_width": null,
            "border": null,
            "align_items": null,
            "bottom": null,
            "_model_module": "@jupyter-widgets/base",
            "top": null,
            "grid_column": null,
            "overflow_y": null,
            "overflow_x": null,
            "grid_auto_flow": null,
            "grid_area": null,
            "grid_template_columns": null,
            "flex": null,
            "_model_name": "LayoutModel",
            "justify_items": null,
            "grid_row": null,
            "max_height": null,
            "align_content": null,
            "visibility": null,
            "align_self": null,
            "height": null,
            "min_height": null,
            "padding": null,
            "grid_auto_rows": null,
            "grid_gap": null,
            "max_width": null,
            "order": null,
            "_view_module_version": "1.2.0",
            "grid_template_areas": null,
            "object_position": null,
            "object_fit": null,
            "grid_auto_columns": null,
            "margin": null,
            "display": null,
            "left": null
          }
        },
        "a7567b275eae4e6b826b60b03b039c98": {
          "model_module": "@jupyter-widgets/controls",
          "model_name": "DescriptionStyleModel",
          "model_module_version": "1.5.0",
          "state": {
            "_view_name": "StyleView",
            "_model_name": "DescriptionStyleModel",
            "description_width": "",
            "_view_module": "@jupyter-widgets/base",
            "_model_module_version": "1.5.0",
            "_view_count": null,
            "_view_module_version": "1.2.0",
            "_model_module": "@jupyter-widgets/controls"
          }
        },
        "24251b2d8c2f469a9dfb02decf91d293": {
          "model_module": "@jupyter-widgets/base",
          "model_name": "LayoutModel",
          "model_module_version": "1.2.0",
          "state": {
            "_view_name": "LayoutView",
            "grid_template_rows": null,
            "right": null,
            "justify_content": null,
            "_view_module": "@jupyter-widgets/base",
            "overflow": null,
            "_model_module_version": "1.2.0",
            "_view_count": null,
            "flex_flow": null,
            "width": null,
            "min_width": null,
            "border": null,
            "align_items": null,
            "bottom": null,
            "_model_module": "@jupyter-widgets/base",
            "top": null,
            "grid_column": null,
            "overflow_y": null,
            "overflow_x": null,
            "grid_auto_flow": null,
            "grid_area": null,
            "grid_template_columns": null,
            "flex": null,
            "_model_name": "LayoutModel",
            "justify_items": null,
            "grid_row": null,
            "max_height": null,
            "align_content": null,
            "visibility": null,
            "align_self": null,
            "height": null,
            "min_height": null,
            "padding": null,
            "grid_auto_rows": null,
            "grid_gap": null,
            "max_width": null,
            "order": null,
            "_view_module_version": "1.2.0",
            "grid_template_areas": null,
            "object_position": null,
            "object_fit": null,
            "grid_auto_columns": null,
            "margin": null,
            "display": null,
            "left": null
          }
        }
      }
    }
  },
  "cells": [
    {
      "cell_type": "code",
      "metadata": {
        "id": "aUWwEEsOFytz"
      },
      "source": [
        "# DOWNLOAD USING KAGGLE\n",
        "\n",
        "# !chmod 600 /content/kaggle.json\n",
        "# !mv /content/kaggle.json /root/.kaggle/kaggle.json\n",
        "# !kaggle competitions download flowerdata-module5"
      ],
      "execution_count": null,
      "outputs": []
    },
    {
      "cell_type": "code",
      "metadata": {
        "id": "PqDJy5wQFHkD"
      },
      "source": [
        "# OR INFLATING DATA FROM DRIVE\n",
        "\n",
        "# !unzip \"/content/drive/MyDrive/Uni/flowerdata-module5.zip\" -d \"/content/data/\""
      ],
      "execution_count": null,
      "outputs": []
    },
    {
      "cell_type": "code",
      "metadata": {
        "id": "fPdHo_WRGOIS"
      },
      "source": [
        "!pip install -q efficientnet"
      ],
      "execution_count": null,
      "outputs": []
    },
    {
      "cell_type": "code",
      "metadata": {
        "colab": {
          "base_uri": "https://localhost:8080/"
        },
        "id": "dRRkZjydi39H",
        "outputId": "0aaddeb8-be5e-4cfa-f764-919d9a20cca4"
      },
      "source": [
        "!pip install kaggledatasets"
      ],
      "execution_count": null,
      "outputs": [
        {
          "output_type": "stream",
          "name": "stdout",
          "text": [
            "Collecting kaggledatasets\n",
            "  Downloading kaggledatasets-0.0.1-py2.py3-none-any.whl (15 kB)\n",
            "Requirement already satisfied: numpy in /usr/local/lib/python3.7/dist-packages (from kaggledatasets) (1.19.5)\n",
            "Requirement already satisfied: kaggle in /usr/local/lib/python3.7/dist-packages (from kaggledatasets) (1.5.12)\n",
            "Requirement already satisfied: pandas in /usr/local/lib/python3.7/dist-packages (from kaggledatasets) (1.1.5)\n",
            "Requirement already satisfied: requests in /usr/local/lib/python3.7/dist-packages (from kaggle->kaggledatasets) (2.23.0)\n",
            "Requirement already satisfied: python-slugify in /usr/local/lib/python3.7/dist-packages (from kaggle->kaggledatasets) (5.0.2)\n",
            "Requirement already satisfied: six>=1.10 in /usr/local/lib/python3.7/dist-packages (from kaggle->kaggledatasets) (1.15.0)\n",
            "Requirement already satisfied: certifi in /usr/local/lib/python3.7/dist-packages (from kaggle->kaggledatasets) (2021.10.8)\n",
            "Requirement already satisfied: tqdm in /usr/local/lib/python3.7/dist-packages (from kaggle->kaggledatasets) (4.62.3)\n",
            "Requirement already satisfied: urllib3 in /usr/local/lib/python3.7/dist-packages (from kaggle->kaggledatasets) (1.24.3)\n",
            "Requirement already satisfied: python-dateutil in /usr/local/lib/python3.7/dist-packages (from kaggle->kaggledatasets) (2.8.2)\n",
            "Requirement already satisfied: pytz>=2017.2 in /usr/local/lib/python3.7/dist-packages (from pandas->kaggledatasets) (2018.9)\n",
            "Requirement already satisfied: text-unidecode>=1.3 in /usr/local/lib/python3.7/dist-packages (from python-slugify->kaggle->kaggledatasets) (1.3)\n",
            "Requirement already satisfied: chardet<4,>=3.0.2 in /usr/local/lib/python3.7/dist-packages (from requests->kaggle->kaggledatasets) (3.0.4)\n",
            "Requirement already satisfied: idna<3,>=2.5 in /usr/local/lib/python3.7/dist-packages (from requests->kaggle->kaggledatasets) (2.10)\n",
            "Installing collected packages: kaggledatasets\n",
            "Successfully installed kaggledatasets-0.0.1\n"
          ]
        }
      ]
    },
    {
      "cell_type": "code",
      "metadata": {
        "id": "4ZAKxIHvw9GK"
      },
      "source": [
        "from PIL import Image\n",
        "from torchvision import transforms\n",
        "import torchvision\n",
        "from IPython.display import clear_output\n",
        "import os\n",
        "import torch\n",
        "import matplotlib.pyplot as plt\n",
        "import numpy as np\n",
        "import time\n",
        "import copy"
      ],
      "execution_count": null,
      "outputs": []
    },
    {
      "cell_type": "code",
      "metadata": {
        "colab": {
          "base_uri": "https://localhost:8080/"
        },
        "id": "W7rgGW4EM6b2",
        "outputId": "113b76f3-f736-4ccb-f57e-016b542bf740"
      },
      "source": [
        "import math, re, gc\n",
        "import numpy as np # linear algebra\n",
        "import pickle\n",
        "from datetime import datetime, timedelta\n",
        "import tensorflow as tf\n",
        "import efficientnet.tfkeras as efficientnet\n",
        "from matplotlib import pyplot as plt\n",
        "from sklearn.metrics import f1_score, precision_score, recall_score, confusion_matrix\n",
        "print('TensorFlow version', tf.__version__)\n",
        "AUTO = tf.data.experimental.AUTOTUNE\n",
        "from sklearn.model_selection import train_test_split\n"
      ],
      "execution_count": null,
      "outputs": [
        {
          "output_type": "stream",
          "name": "stdout",
          "text": [
            "TensorFlow version 2.7.0\n"
          ]
        }
      ]
    },
    {
      "cell_type": "markdown",
      "metadata": {
        "id": "GrmQ2BpNiZk2"
      },
      "source": [
        "# INITIAL SETUP"
      ]
    },
    {
      "cell_type": "code",
      "metadata": {
        "colab": {
          "base_uri": "https://localhost:8080/"
        },
        "id": "xBmSHDygM8tA",
        "outputId": "9571a665-9bfc-44ab-ac47-cdcf7f7f799a"
      },
      "source": [
        "try:\n",
        "    tpu = tf.distribute.cluster_resolver.TPUClusterResolver()\n",
        "    print('Running on TPU', tpu.master())\n",
        "except ValueError:\n",
        "    tpu = None\n",
        "\n",
        "if tpu:\n",
        "    tf.config.experimental_connect_to_cluster(tpu)\n",
        "    tf.tpu.experimental.initialize_tpu_system(tpu)\n",
        "    strategy = tf.distribute.experimental.TPUStrategy(tpu)\n",
        "else:\n",
        "    strategy = tf.distribute.get_strategy()\n",
        "\n",
        "print('Replicas:', strategy.num_replicas_in_sync)"
      ],
      "execution_count": null,
      "outputs": [
        {
          "output_type": "stream",
          "name": "stdout",
          "text": [
            "Replicas: 1\n"
          ]
        }
      ]
    },
    {
      "cell_type": "code",
      "metadata": {
        "id": "pmqh7SadNMD2"
      },
      "source": [
        "IMAGE_SIZE = [512, 512] # [512, 512]\n",
        "\n",
        "EPOCHS = 12\n",
        "BATCH_SIZE = 16 * strategy.num_replicas_in_sync"
      ],
      "execution_count": null,
      "outputs": []
    },
    {
      "cell_type": "markdown",
      "metadata": {
        "id": "-sOMEJl9y8Ld"
      },
      "source": [
        "# HELPER FUNCTIONS"
      ]
    },
    {
      "cell_type": "code",
      "metadata": {
        "id": "1NNQr4Wty-n7"
      },
      "source": [
        "def imshow(img):\n",
        "    img = img / 2 + 0.5     # unnormalize\n",
        "    npimg = img.numpy()\n",
        "    plt.imshow(np.transpose(npimg, (1, 2, 0)))\n",
        "    plt.show()"
      ],
      "execution_count": null,
      "outputs": []
    },
    {
      "cell_type": "markdown",
      "metadata": {
        "id": "nGPeHSm1y-9t"
      },
      "source": [
        "# PREPARE DATA"
      ]
    },
    {
      "cell_type": "code",
      "metadata": {
        "id": "CZFS70DaPbEV"
      },
      "source": [
        "N_CLASSES = 102\n",
        "TRAIN_FILES_PATH = '/content/data/train/train/'\n",
        "TEST_FILES_PATH = '/content/data/test/test'\n",
        "\n",
        "# Let's start from X (links to pictures)\n",
        "# Training filenames\n",
        "TRAINING_FILENAMES = []\n",
        "for label in range(1,N_CLASSES+1):\n",
        "    TRAINING_FILENAMES.extend(\n",
        "        tf.io.gfile.glob(TRAIN_FILES_PATH + f'{label}' + '/*.jpg')\n",
        "        )\n",
        "\n",
        "# Continue with Y (labels)\n",
        "TRAINING_LABELS = []\n",
        "for link_to_file in TRAINING_FILENAMES:\n",
        "    TRAINING_LABELS.append(\n",
        "        re.findall(\"\\/\\d*\\/\", link_to_file)[0] \\\n",
        "            .replace(\"/\", \"\")\n",
        "    )\n",
        "\n",
        "\n",
        "# Test filenames (to predict and submit)\n",
        "TEST_FILENAMES = tf.io.gfile.glob(TEST_FILES_PATH + '/*.jpg')\n",
        "\n",
        "# Validation filenames\n",
        "TRAIN_FILENAMES, VALID_FILENAMES, TRAIN_LABELS, VALID_LABELS = train_test_split(\n",
        "    TRAINING_FILENAMES, TRAINING_LABELS, \n",
        "    train_size=0.8, \n",
        "    random_state=42,\n",
        "    stratify=TRAINING_LABELS\n",
        "    )\n",
        "\n",
        "print(f\"Количество строк в TRAIN_LABELS по классам: {np.bincount(TRAIN_LABELS)}\")\n",
        "print(f\"Количество строк в VALID_LABELS по классам: {np.bincount(VALID_LABELS)}\")"
      ],
      "execution_count": null,
      "outputs": []
    },
    {
      "cell_type": "code",
      "metadata": {
        "colab": {
          "base_uri": "https://localhost:8080/"
        },
        "id": "qan39C2cPbG-",
        "outputId": "23b10430-e05e-48c9-c617-31db5d857740"
      },
      "source": [
        "NUM_TRAINING_IMAGES = len(TRAIN_FILENAMES)\n",
        "NUM_VALIDATION_IMAGES = len(VALID_FILENAMES)\n",
        "NUM_TEST_IMAGES = len(TEST_FILENAMES)\n",
        "STEPS_PER_EPOCH = NUM_TRAINING_IMAGES // BATCH_SIZE\n",
        "\n",
        "print('Dataset: {} training images, {} validation images, {} unlabeled test images'.format(NUM_TRAINING_IMAGES, NUM_VALIDATION_IMAGES, NUM_TEST_IMAGES))"
      ],
      "execution_count": null,
      "outputs": [
        {
          "output_type": "stream",
          "name": "stdout",
          "text": [
            "Dataset: 5241 training images, 1311 validation images, 818 unlabeled test images\n"
          ]
        }
      ]
    },
    {
      "cell_type": "code",
      "metadata": {
        "id": "-VN9Cy2HBVzS"
      },
      "source": [
        "assert(len(TRAIN_FILENAMES) == len(TRAIN_LABELS))\n",
        "assert(len(VALID_FILENAMES) == len(VALID_LABELS))"
      ],
      "execution_count": null,
      "outputs": []
    },
    {
      "cell_type": "markdown",
      "metadata": {
        "id": "Aufitu6GDr0w"
      },
      "source": [
        "### Prepare Train Dataset class"
      ]
    },
    {
      "cell_type": "code",
      "metadata": {
        "id": "qrF2X4YDvWSZ"
      },
      "source": [
        "train_transforms = transforms.Compose([\n",
        "        transforms.RandomResizedCrop(512),\n",
        "        transforms.RandomHorizontalFlip(p=0.5),\n",
        "        # transforms.RandomRotation((-30,30)),\n",
        "        # transforms.RandomGrayscale(p=0.2),\n",
        "        transforms.RandomVerticalFlip(p=0.2),\n",
        "        transforms.RandomEqualize(p=0.2),\n",
        "        transforms.RandomInvert(p=0.2),\n",
        "        transforms.RandomAutocontrast(p=0.2),\n",
        "        transforms.ColorJitter(contrast=0.2),\n",
        "        transforms.ToTensor(),\n",
        "        transforms.Normalize([0.485, 0.456, 0.406], [0.229, 0.224, 0.225])\n",
        "        ])\n",
        "\n",
        "class TrainValidDataset(torch.utils.data.Dataset):\n",
        "  def __init__(self, image_paths,\n",
        "               transforms,\n",
        "               labels):\n",
        "    self.image_paths = image_paths\n",
        "    self.transforms = transforms\n",
        "    self.labels = labels\n",
        "\n",
        "  def __len__(self):\n",
        "    return(len(self.image_paths))\n",
        "\n",
        "  def __getitem__(self, idx):\n",
        "    image = Image.open(self.image_paths[idx])\n",
        "    image = self.transforms(image)\n",
        "    category = self.labels[idx]\n",
        "    return (torch.FloatTensor(image), torch.tensor(int(category)))\n",
        "\n",
        "TRAIN_DATA = TrainValidDataset(image_paths=TRAIN_FILENAMES,\n",
        "                          transforms = train_transforms,\n",
        "                          labels=TRAIN_LABELS)\n",
        "TRAIN_LOADER = torch.utils.data.DataLoader(TRAIN_DATA, batch_size=2,shuffle=True)"
      ],
      "execution_count": null,
      "outputs": []
    },
    {
      "cell_type": "code",
      "metadata": {
        "colab": {
          "base_uri": "https://localhost:8080/",
          "height": 306
        },
        "id": "K_ew5tadzVdV",
        "outputId": "3a7487d1-6de6-418a-a504-4389bd8f310c"
      },
      "source": [
        "imgs, categories = next(iter(TRAIN_LOADER))\n",
        "imshow(imgs[0])"
      ],
      "execution_count": null,
      "outputs": [
        {
          "output_type": "stream",
          "name": "stderr",
          "text": [
            "Clipping input data to the valid range for imshow with RGB data ([0..1] for floats or [0..255] for integers).\n"
          ]
        },
        {
          "output_type": "display_data",
          "data": {
            "image/png": "[encoded data removed]",
            "text/plain": [
              "<Figure size 432x288 with 1 Axes>"
            ]
          },
          "metadata": {
            "needs_background": "light"
          }
        }
      ]
    },
    {
      "cell_type": "markdown",
      "metadata": {
        "id": "ixZ_9vLsDvnA"
      },
      "source": [
        "### Prepare Validation dataset"
      ]
    },
    {
      "cell_type": "code",
      "metadata": {
        "id": "gbYPxZZRzVm-"
      },
      "source": [
        "valid_transforms = transforms.Compose([\n",
        "        transforms.RandomResizedCrop(512),\n",
        "        transforms.ToTensor(),\n",
        "        transforms.Normalize([0.485, 0.456, 0.406], [0.229, 0.224, 0.225])\n",
        "        ])\n",
        "\n",
        "VALID_DATA = TrainValidDataset(image_paths=VALID_FILENAMES,\n",
        "                          transforms = valid_transforms,\n",
        "                          labels=VALID_LABELS)\n",
        "VALID_LOADER = torch.utils.data.DataLoader(VALID_DATA, batch_size=2,shuffle=True)"
      ],
      "execution_count": null,
      "outputs": []
    },
    {
      "cell_type": "code",
      "metadata": {
        "colab": {
          "base_uri": "https://localhost:8080/",
          "height": 306
        },
        "id": "ZEjpHKanzVwA",
        "outputId": "16e4d079-371f-4649-96ba-f218df98e2b9"
      },
      "source": [
        "imgs, categories = next(iter(VALID_LOADER))\n",
        "imshow(imgs[0])"
      ],
      "execution_count": null,
      "outputs": [
        {
          "output_type": "stream",
          "name": "stderr",
          "text": [
            "Clipping input data to the valid range for imshow with RGB data ([0..1] for floats or [0..255] for integers).\n"
          ]
        },
        {
          "output_type": "display_data",
          "data": {
            "image/png": "[encoded data removed]",
            "text/plain": [
              "<Figure size 432x288 with 1 Axes>"
            ]
          },
          "metadata": {
            "needs_background": "light"
          }
        }
      ]
    },
    {
      "cell_type": "markdown",
      "metadata": {
        "id": "r1kN6np0D4Pv"
      },
      "source": [
        "### Prepare Test Dataset Class"
      ]
    },
    {
      "cell_type": "code",
      "metadata": {
        "id": "ZJsEQZy2rdYM"
      },
      "source": [
        "test_transforms = transforms.Compose([\n",
        "        transforms.RandomResizedCrop(512),\n",
        "        transforms.ToTensor(),\n",
        "        transforms.Normalize([0.485, 0.456, 0.406], [0.229, 0.224, 0.225])\n",
        "        ])\n",
        "\n",
        "class TestDataset(torch.utils.data.Dataset):\n",
        "  def __init__(self, image_paths,\n",
        "               transforms):\n",
        "    self.image_paths = image_paths\n",
        "    self.transforms = transforms\n",
        "\n",
        "  def __len__(self):\n",
        "    return(len(self.image_paths))\n",
        "\n",
        "  def __getitem__(self, idx):\n",
        "    image = Image.open(self.image_paths[idx])\n",
        "    image = self.transforms(image)\n",
        "    return torch.FloatTensor(image)\n",
        "\n",
        "TEST_DATA = TestDataset(image_paths=TEST_FILENAMES,\n",
        "                          transforms = test_transforms)\n",
        "TEST_LOADER = torch.utils.data.DataLoader(TEST_DATA, batch_size=2,shuffle=True)"
      ],
      "execution_count": null,
      "outputs": []
    },
    {
      "cell_type": "code",
      "metadata": {
        "colab": {
          "base_uri": "https://localhost:8080/",
          "height": 306
        },
        "id": "H47oEYWMEvRk",
        "outputId": "b2385e6d-42ff-467e-e0ca-7df26fd7cdac"
      },
      "source": [
        "imgs = next(iter(TEST_LOADER))\n",
        "imshow(imgs[0])"
      ],
      "execution_count": null,
      "outputs": [
        {
          "output_type": "stream",
          "name": "stderr",
          "text": [
            "Clipping input data to the valid range for imshow with RGB data ([0..1] for floats or [0..255] for integers).\n"
          ]
        },
        {
          "output_type": "display_data",
          "data": {
            "image/png": "[encoded data removed]",
            "text/plain": [
              "<Figure size 432x288 with 1 Axes>"
            ]
          },
          "metadata": {
            "needs_background": "light"
          }
        }
      ]
    },
    {
      "cell_type": "markdown",
      "metadata": {
        "id": "QHW-iSkDH6Mg"
      },
      "source": [
        "# Train process"
      ]
    },
    {
      "cell_type": "code",
      "metadata": {
        "colab": {
          "base_uri": "https://localhost:8080/",
          "height": 293
        },
        "id": "LMpbX2WzNiwG",
        "outputId": "dcb94caf-b1c3-4dca-9e6a-801cee8664cc"
      },
      "source": [
        "LR_START = 0.00001\n",
        "LR_MAX = 0.00005 * strategy.num_replicas_in_sync\n",
        "LR_MIN = 0.00001\n",
        "LR_RAMPUP_EPOCHS = 5\n",
        "LR_SUSTAIN_EPOCHS = 0\n",
        "LR_EXP_DECAY = .8\n",
        "\n",
        "def lrfn(epoch):\n",
        "    if epoch < LR_RAMPUP_EPOCHS:\n",
        "        lr = (LR_MAX - LR_START) / LR_RAMPUP_EPOCHS * epoch + LR_START\n",
        "    elif epoch < LR_RAMPUP_EPOCHS + LR_SUSTAIN_EPOCHS:\n",
        "        lr = LR_MAX\n",
        "    else:\n",
        "        lr = (LR_MAX - LR_MIN) * LR_EXP_DECAY**(epoch - LR_RAMPUP_EPOCHS - LR_SUSTAIN_EPOCHS) + LR_MIN\n",
        "    return lr\n",
        "def lrfn1(epoch):\n",
        "    return LR_START\n",
        "\n",
        "lr_callback = tf.keras.callbacks.LearningRateScheduler(lrfn, verbose = True)\n",
        "\n",
        "rng = [i for i in range(25 if EPOCHS<25 else EPOCHS)]\n",
        "y = [lrfn(x) for x in rng]\n",
        "plt.plot(rng, y)\n",
        "print(\"Learning rate schedule: {:.3g} to {:.3g} to {:.3g}\".format(y[0], max(y), y[-1]))"
      ],
      "execution_count": null,
      "outputs": [
        {
          "output_type": "stream",
          "name": "stdout",
          "text": [
            "Learning rate schedule: 1e-05 to 5e-05 to 1.06e-05\n"
          ]
        },
        {
          "output_type": "display_data",
          "data": {
            "image/png": "[encoded data removed]",
            "text/plain": [
              "<Figure size 432x288 with 1 Axes>"
            ]
          },
          "metadata": {
            "needs_background": "light"
          }
        }
      ]
    },
    {
      "cell_type": "code",
      "metadata": {
        "id": "EHW0ksBBN16X"
      },
      "source": [
        "class TimeCallback(torch.utils.Callback): #tf.keras.callbacks.Callback): \n",
        "    def on_epoch_end(self, epoch, logs={}):\n",
        "        if((datetime.now() - start_time).total_seconds() > 9500):\n",
        "            self.model.stop_training = True\n",
        "            \n",
        "time_callback = TimeCallback()"
      ],
      "execution_count": null,
      "outputs": []
    },
    {
      "cell_type": "code",
      "metadata": {
        "id": "SgbyUsjGE2W4"
      },
      "source": [
        "def accuracy(outputs, labels):\n",
        "    _, preds = torch.max(outputs, dim=1) \n",
        "    return torch.tensor(torch.sum(preds == labels).item() / len(preds)), preds"
      ],
      "execution_count": null,
      "outputs": []
    },
    {
      "cell_type": "code",
      "metadata": {
        "id": "N1FGkCMyIskX"
      },
      "source": [
        "#save the losses for further visualization\n",
        "losses = {'train':[], 'val':[]}\n",
        "accuracies = {'train':[], 'val':[]}\n",
        "lr = []"
      ],
      "execution_count": null,
      "outputs": []
    },
    {
      "cell_type": "code",
      "metadata": {
        "id": "rZueJMHIIv5W"
      },
      "source": [
        "def train(seed, epochs, model):\n",
        "    \n",
        "  print('Creating a model {}...'.format(seed))\n",
        "\n",
        "  model.to(device)  \n",
        "  criterion = torch.nn.CrossEntropyLoss()\n",
        "  if seed==2 or seed==3:\n",
        "    optimizer = torch.optim.Adam(model.fc.parameters(), lr=0.001, betas=(0.9, 0.999), eps=1e-08, weight_decay = 1e-5)\n",
        "  else:\n",
        "    optimizer = torch.optim.Adam(model.classifier.parameters(), lr=0.001, betas=(0.9, 0.999), eps=1e-08, weight_decay=0)\n",
        "  scheduler = torch.optim.lr_scheduler.ReduceLROnPlateau(optimizer, mode='max', factor=0.1, patience=3, verbose=True)\n",
        "  #scheduler = torch.optim.lr_scheduler.OneCycleLR(optimizer, 0.1, epochs=epochs, steps_per_epoch=len(loaders['train']), cycle_momentum=True)\n",
        "  #scheduler = torch.optim.lr_scheduler.StepLR(optimizer, 3, gamma=0.1)\n",
        "  since = time.time()\n",
        "  best_model = copy.deepcopy(model.state_dict())\n",
        "  best_acc = 0.0\n",
        "  for epoch in range(epochs):\n",
        "    for phase in ['train', 'val']:\n",
        "      if phase == 'train':\n",
        "        model.train()\n",
        "      else:\n",
        "        model.eval()\n",
        "      \n",
        "      running_loss = 0.0\n",
        "      running_corrects = 0.0\n",
        "\n",
        "      for inputs, labels in TRAIN_LOADER[phase]:\n",
        "        inputs, labels = inputs.to(device), labels.to(device)\n",
        "        optimizer.zero_grad()\n",
        "\n",
        "        with torch.set_grad_enabled(phase=='train'):\n",
        "          outp = model(inputs)\n",
        "          _, pred = torch.max(outp, 1)\n",
        "          loss = criterion(outp, labels)\n",
        "        \n",
        "          if phase == 'train':\n",
        "            loss.backward()\n",
        "            optimizer.step()\n",
        "#             lr.append(scheduler.get_lr())\n",
        "#             scheduler.step()\n",
        "\n",
        "        running_loss += loss.item()*inputs.size(0)\n",
        "        running_corrects += torch.sum(pred == labels.data)\n",
        "\n",
        "      if phase == 'train':\n",
        "          acc = 100. * running_corrects.double() / dataset_sizes[phase]\n",
        "          scheduler.step(acc)\n",
        "\n",
        "      epoch_loss = running_loss / dataset_sizes[phase]\n",
        "      epoch_acc = running_corrects.double()/dataset_sizes[phase]\n",
        "      losses[phase].append(epoch_loss)\n",
        "      accuracies[phase].append(epoch_acc)\n",
        "      if phase == 'train':\n",
        "        print('Epoch: {}/{}'.format(epoch+1, epochs))\n",
        "      print('{} - loss:{}, accuracy{}'.format(phase, epoch_loss, epoch_acc))\n",
        "      lr.append(scheduler._last_lr)\n",
        "        \n",
        "      if phase == 'val':\n",
        "        print('Time: {}m {}s'.format((time.time()- since)//60, (time.time()- since)%60))\n",
        "        print('=='*31)\n",
        "      if phase == 'val' and epoch_acc > best_acc:\n",
        "        best_acc = epoch_acc\n",
        "        best_model = copy.deepcopy(model.state_dict())\n",
        "    #scheduler.step() \n",
        "  time_elapsed = time.time() - since\n",
        "  print('CLASSIFIER TRAINING TIME {}m {}s'.format(time_elapsed//60, time_elapsed%60))\n",
        "  print('=='*31)\n",
        "\n",
        "\n",
        "  model.load_state_dict(best_model)\n",
        "\n",
        "  for param in model.parameters():\n",
        "        param.requires_grad=True\n",
        "\n",
        "  optimizer = torch.optim.Adam(model.parameters(), lr=0.0001, betas=(0.9, 0.999), eps=1e-08, weight_decay=0)  \n",
        "  scheduler = torch.optim.lr_scheduler.ReduceLROnPlateau(optimizer, factor=0.1, patience=2, verbose=True)\n",
        "  #scheduler = torch.optim.lr_scheduler.StepLR(optimizer, 3, gamma=0.1)\n",
        "  #scheduler = torch.optim.lr_scheduler.OneCycleLR(optimizer, 0.001, epochs=epochs, steps_per_epoch=len(loaders['train']), cycle_momentum=True)\n",
        "  for epoch in range(epochs):\n",
        "    for phase in ['train', 'val']:\n",
        "      if phase == 'train':\n",
        "        model.train()\n",
        "      else:\n",
        "        model.eval()\n",
        "      \n",
        "      running_loss = 0.0\n",
        "      running_corrects = 0.0\n",
        "\n",
        "      for inputs, labels in TRAIN_LOADER[phase]:\n",
        "        inputs, labels = inputs.to(device), labels.to(device)\n",
        "\n",
        "        optimizer.zero_grad()\n",
        "\n",
        "        with torch.set_grad_enabled(phase=='train'):\n",
        "          outp = model(inputs)\n",
        "          _, pred = torch.max(outp, 1)\n",
        "          loss = criterion(outp, labels)\n",
        "        \n",
        "          if phase == 'train':\n",
        "            loss.backward()\n",
        "            optimizer.step()\n",
        "#             lr.append(scheduler.get_lr())\n",
        "#             scheduler.step()\n",
        "\n",
        "        running_loss += loss.item()*inputs.size(0)\n",
        "        running_corrects += torch.sum(pred == labels.data)\n",
        "\n",
        "      if phase == 'train':\n",
        "        acc = 100. * running_corrects.double() / dataset_sizes[phase]\n",
        "        scheduler.step(acc)\n",
        "\n",
        "      epoch_loss = running_loss / dataset_sizes[phase]\n",
        "      epoch_acc = running_corrects.double()/dataset_sizes[phase]\n",
        "      losses[phase].append(epoch_loss)\n",
        "      accuracies[phase].append(epoch_acc)\n",
        "      if phase == 'train':\n",
        "        print('Epoch: {}/{}'.format(epoch+1, epochs))\n",
        "      print('{} - loss:{}, accuracy{}'.format(phase, epoch_loss, epoch_acc))\n",
        "      lr.append(scheduler._last_lr)\n",
        "    \n",
        "      if phase == 'val':\n",
        "        print('Time: {}m {}s'.format((time.time()- since)//60, (time.time()- since)%60))\n",
        "        print('=='*31)    \n",
        "      if phase == 'val' and epoch_acc > best_acc:\n",
        "        best_acc = epoch_acc\n",
        "        best_model = copy.deepcopy(model.state_dict())\n",
        "    #scheduler.step() \n",
        "  time_elapsed = time.time() - since\n",
        "  print('ALL NET TRAINING TIME {}m {}s'.format(time_elapsed//60, time_elapsed%60))\n",
        "  print('=='*31)\n",
        "\n",
        "  model.load_state_dict(best_model)\n",
        "  return model"
      ],
      "execution_count": null,
      "outputs": []
    },
    {
      "cell_type": "markdown",
      "metadata": {
        "id": "53goeWFeMoSk"
      },
      "source": [
        "# Models"
      ]
    },
    {
      "cell_type": "code",
      "metadata": {
        "id": "LdoJFdHUNYFx"
      },
      "source": [
        "device= torch.device('cuda:0' if torch.cuda.is_available() else 'cpu')"
      ],
      "execution_count": null,
      "outputs": []
    },
    {
      "cell_type": "markdown",
      "metadata": {
        "id": "wElQTgD-M9Wv"
      },
      "source": [
        "### DenseNet (1)"
      ]
    },
    {
      "cell_type": "code",
      "metadata": {
        "id": "CCQpHlkkMiOy"
      },
      "source": [
        "densenet121_0 = torchvision.models.densenet121(pretrained=True)\n",
        "for param in densenet121_0.parameters():\n",
        "  param.requires_grad=False\n",
        "\n",
        "densenet121_0.classifier = torch.nn.Linear(\n",
        "    in_features=densenet121_0.classifier.in_features,\n",
        "    out_features=102,\n",
        "    bias=True\n",
        "    )"
      ],
      "execution_count": null,
      "outputs": []
    },
    {
      "cell_type": "markdown",
      "metadata": {
        "id": "IrM-ImKuP1Jf"
      },
      "source": [
        "### DenseNet (2)"
      ]
    },
    {
      "cell_type": "code",
      "metadata": {
        "id": "pObjoiFYO03g"
      },
      "source": [
        "densenet121_1 = torchvision.models.densenet121(pretrained=True)\n",
        "for param in densenet121_1.parameters():\n",
        "  param.requires_grad=False\n",
        "\n",
        "densenet121_1.classifier = torch.nn.Linear(\n",
        "    in_features=densenet121_1.classifier.in_features,\n",
        "    out_features=102,\n",
        "    bias=True)"
      ],
      "execution_count": null,
      "outputs": []
    },
    {
      "cell_type": "markdown",
      "metadata": {
        "id": "UY0IU78AP4Bl"
      },
      "source": [
        "### GoogleNet"
      ]
    },
    {
      "cell_type": "code",
      "metadata": {
        "id": "AHjzXIkPPtbP"
      },
      "source": [
        "googlenet = torchvision.models.googlenet(pretrained=True)\n",
        "for param in googlenet.parameters():\n",
        "  param.grad_requires = False\n",
        "\n",
        "googlenet.fc = torch.nn.Linear(\n",
        "    in_features=googlenet.fc.in_features,\n",
        "    out_features=102,\n",
        "    bias=True)"
      ],
      "execution_count": null,
      "outputs": []
    },
    {
      "cell_type": "markdown",
      "metadata": {
        "id": "Z1lqSrYfQFYs"
      },
      "source": [
        "### ResNet"
      ]
    },
    {
      "cell_type": "code",
      "metadata": {
        "colab": {
          "base_uri": "https://localhost:8080/",
          "height": 86,
          "referenced_widgets": [
            "90fb06b7e0be45f5844e2fcf1db31adf",
            "58949bc37f7c49888b0ee1648c76bfbb",
            "578a3e46d41b4b7584e0c1d2064ca847",
            "e94181b54c434ea7a8aceea2835d5c26",
            "ee6f03c0342f43888a36c043cc79c26d",
            "e878091b8a5c4c7cae49ee23a1ae5f61",
            "9f89a2de94a44600b23b194e1a1cadf8",
            "3e78975097364030b1ee13bb1c205a90",
            "e4d0eeb84d2249a78ffed2cb2d365680",
            "73f02c448bed4c0f811ba0168071de5d",
            "5adc4fef32c94e11a8cf9439540fa4cb"
          ]
        },
        "id": "geodfmE9P_hU",
        "outputId": "eeac8370-18a9-4f0e-b052-005c66873f48"
      },
      "source": [
        "resnet101 = torchvision.models.resnet101(pretrained=True)\n",
        "for param in resnet101.parameters():\n",
        "  param.grad_requires = False\n",
        "\n",
        "resnet101.fc = torch.nn.Linear(\n",
        "    in_features=resnet101.fc.in_features,\n",
        "    out_features=102,\n",
        "    bias=True)"
      ],
      "execution_count": null,
      "outputs": [
        {
          "output_type": "stream",
          "name": "stderr",
          "text": [
            "Downloading: \"https://download.pytorch.org/models/resnet101-63fe2227.pth\" to /root/.cache/torch/hub/checkpoints/resnet101-63fe2227.pth\n"
          ]
        },
        {
          "output_type": "display_data",
          "data": {
            "application/vnd.jupyter.widget-view+json": {
              "model_id": "90fb06b7e0be45f5844e2fcf1db31adf",
              "version_minor": 0,
              "version_major": 2
            },
            "text/plain": [
              "  0%|          | 0.00/171M [00:00<?, ?B/s]"
            ]
          },
          "metadata": {}
        }
      ]
    },
    {
      "cell_type": "markdown",
      "metadata": {
        "id": "NPSjHcWpQPJn"
      },
      "source": [
        "### VGG19"
      ]
    },
    {
      "cell_type": "code",
      "metadata": {
        "colab": {
          "base_uri": "https://localhost:8080/",
          "height": 86,
          "referenced_widgets": [
            "0b2c4e305e8541ecb6ecaadc79590677",
            "b28be94f56d1411a9ca1dd18951b4040",
            "504087a536dc4ce89269f8f3cdfa98f3",
            "b1485aacd6ca4a8babc916ccc63672a9",
            "d1419ee8446b4718b26587c93bccbb72",
            "53b9e92fa42b42438f8ee96aee03a81a",
            "df69b1c767b9471ea00b4b252f00f1d5",
            "4718df5c96434cacb905d712ba457110",
            "f8e62204b5c04963a00513c0c25ac705",
            "a7567b275eae4e6b826b60b03b039c98",
            "24251b2d8c2f469a9dfb02decf91d293"
          ]
        },
        "id": "V5TMS7ewQN4t",
        "outputId": "bb2cfae0-5566-44bd-bd24-78e62f4adc0b"
      },
      "source": [
        "vgg19_bn = torchvision.models.vgg19_bn(pretrained=True)\n",
        "for param in vgg19_bn.parameters():\n",
        "  param.grad_requires = False\n",
        "\n",
        "vgg19_bn.classifier[6] = torch.nn.Linear(\n",
        "    4096, 102, bias=True)"
      ],
      "execution_count": null,
      "outputs": [
        {
          "output_type": "stream",
          "name": "stderr",
          "text": [
            "Downloading: \"https://download.pytorch.org/models/vgg19_bn-c79401a0.pth\" to /root/.cache/torch/hub/checkpoints/vgg19_bn-c79401a0.pth\n"
          ]
        },
        {
          "output_type": "display_data",
          "data": {
            "application/vnd.jupyter.widget-view+json": {
              "model_id": "0b2c4e305e8541ecb6ecaadc79590677",
              "version_minor": 0,
              "version_major": 2
            },
            "text/plain": [
              "  0%|          | 0.00/548M [00:00<?, ?B/s]"
            ]
          },
          "metadata": {}
        }
      ]
    },
    {
      "cell_type": "code",
      "metadata": {
        "id": "IJV-vBUOQX9w"
      },
      "source": [
        "num_models = 5\n",
        "epochs = 10\n",
        "\n",
        "models = [densenet121_0, densenet121_1, googlenet, resnet101, vgg19_bn]\n",
        "\n",
        "for seed in range(num_models):\n",
        "   train(seed=seed, epochs=epochs, model=models[seed])"
      ],
      "execution_count": null,
      "outputs": []
    },
    {
      "cell_type": "code",
      "metadata": {
        "id": "2a1oB5PTQcGb"
      },
      "source": [
        "import pandas as pd"
      ],
      "execution_count": null,
      "outputs": []
    },
    {
      "cell_type": "code",
      "source": [
        "d = pd.read_csv(\"submit 2.csv\", sep=';')"
      ],
      "metadata": {
        "id": "Vh2EfH0p7BO1"
      },
      "execution_count": null,
      "outputs": []
    },
    {
      "cell_type": "code",
      "source": [
        "d.tail(10)"
      ],
      "metadata": {
        "colab": {
          "base_uri": "https://localhost:8080/",
          "height": 362
        },
        "id": "tDtnbMd67IaW",
        "outputId": "5e38e50a-6bd9-43b7-ba3e-0f152f17d6df"
      },
      "execution_count": null,
      "outputs": [
        {
          "output_type": "execute_result",
          "data": {
            "text/html": [
              "<div>\n",
              "<style scoped>\n",
              "    .dataframe tbody tr th:only-of-type {\n",
              "        vertical-align: middle;\n",
              "    }\n",
              "\n",
              "    .dataframe tbody tr th {\n",
              "        vertical-align: top;\n",
              "    }\n",
              "\n",
              "    .dataframe thead th {\n",
              "        text-align: right;\n",
              "    }\n",
              "</style>\n",
              "<table border=\"1\" class=\"dataframe\">\n",
              "  <thead>\n",
              "    <tr style=\"text-align: right;\">\n",
              "      <th></th>\n",
              "      <th>Id</th>\n",
              "      <th>Category</th>\n",
              "    </tr>\n",
              "  </thead>\n",
              "  <tbody>\n",
              "    <tr>\n",
              "      <th>808</th>\n",
              "      <td>image_08040.jpg</td>\n",
              "      <td>102</td>\n",
              "    </tr>\n",
              "    <tr>\n",
              "      <th>809</th>\n",
              "      <td>image_08041.jpg</td>\n",
              "      <td>102</td>\n",
              "    </tr>\n",
              "    <tr>\n",
              "      <th>810</th>\n",
              "      <td>image_08059.jpg</td>\n",
              "      <td>91</td>\n",
              "    </tr>\n",
              "    <tr>\n",
              "      <th>811</th>\n",
              "      <td>image_08063.jpg</td>\n",
              "      <td>99</td>\n",
              "    </tr>\n",
              "    <tr>\n",
              "      <th>812</th>\n",
              "      <td>image_08067.jpg</td>\n",
              "      <td>31</td>\n",
              "    </tr>\n",
              "    <tr>\n",
              "      <th>813</th>\n",
              "      <td>image_08105.jpg</td>\n",
              "      <td>6</td>\n",
              "    </tr>\n",
              "    <tr>\n",
              "      <th>814</th>\n",
              "      <td>image_08113.jpg</td>\n",
              "      <td>93</td>\n",
              "    </tr>\n",
              "    <tr>\n",
              "      <th>815</th>\n",
              "      <td>image_08145.jpg</td>\n",
              "      <td>57</td>\n",
              "    </tr>\n",
              "    <tr>\n",
              "      <th>816</th>\n",
              "      <td>image_08155.jpg</td>\n",
              "      <td>62</td>\n",
              "    </tr>\n",
              "    <tr>\n",
              "      <th>817</th>\n",
              "      <td>image_08171.jpg</td>\n",
              "      <td>62</td>\n",
              "    </tr>\n",
              "  </tbody>\n",
              "</table>\n",
              "</div>"
            ],
            "text/plain": [
              "                  Id  Category\n",
              "808  image_08040.jpg       102\n",
              "809  image_08041.jpg       102\n",
              "810  image_08059.jpg        91\n",
              "811  image_08063.jpg        99\n",
              "812  image_08067.jpg        31\n",
              "813  image_08105.jpg         6\n",
              "814  image_08113.jpg        93\n",
              "815  image_08145.jpg        57\n",
              "816  image_08155.jpg        62\n",
              "817  image_08171.jpg        62"
            ]
          },
          "metadata": {},
          "execution_count": 12
        }
      ]
    },
    {
      "cell_type": "code",
      "source": [
        "d.to_csv(\"submit 2_.csv\" , index=False)"
      ],
      "metadata": {
        "id": "-7aKnOpO7JmU"
      },
      "execution_count": null,
      "outputs": []
    },
    {
      "cell_type": "code",
      "source": [
        ""
      ],
      "metadata": {
        "id": "x9xmWaJw7YTD"
      },
      "execution_count": null,
      "outputs": []
    }
  ]
}